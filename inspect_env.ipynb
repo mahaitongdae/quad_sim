{
 "cells": [
  {
   "cell_type": "code",
   "execution_count": 18,
   "metadata": {
    "collapsed": true
   },
   "outputs": [],
   "source": [
    "from env.quadrotor import QuadrotorEnv\n",
    "import gym\n",
    "import numpy as np"
   ]
  },
  {
   "cell_type": "code",
   "execution_count": 3,
   "outputs": [
    {
     "name": "stdout",
     "output_type": "stream",
     "text": [
      "QuadEnv: Dyn update time:  0.001634836196899414\n"
     ]
    },
    {
     "name": "stderr",
     "output_type": "stream",
     "text": [
      "/home/mht/anaconda3/envs/gpyt/lib/python3.8/site-packages/gym/spaces/box.py:128: UserWarning: \u001B[33mWARN: Box bound precision lowered by casting to float32\u001B[0m\n",
      "  logger.warn(f\"Box bound precision lowered by casting to {self.dtype}\")\n",
      "/home/mht/anaconda3/envs/gpyt/lib/python3.8/site-packages/gym/vector/vector_env.py:56: DeprecationWarning: \u001B[33mWARN: Initializing vector env in old step API which returns one bool array instead of two. It is recommended to set `new_step_api=True` to use new step API. This will be the default behaviour in future.\u001B[0m\n",
      "  deprecation(\n"
     ]
    },
    {
     "name": "stdout",
     "output_type": "stream",
     "text": [
      "QuadEnv: Dyn update time:  0.0012514591217041016\n",
      "QuadEnv: Dyn update time:  0.0012078285217285156\n",
      "QuadEnv: Dyn update time:  0.0012331008911132812\n",
      "QuadEnv: Dyn update time:  0.0012786388397216797\n",
      "QuadEnv: Dyn update time:  0.0014278888702392578\n",
      "QuadEnv: Dyn update time:  0.0013096332550048828\n",
      "QuadEnv: Dyn update time:  0.0012919902801513672\n",
      "QuadEnv: Dyn update time:  0.001287221908569336\n"
     ]
    }
   ],
   "source": [
    "env = gym.vector.make('Quadrotor-v1', num_envs=8)"
   ],
   "metadata": {
    "collapsed": false
   }
  },
  {
   "cell_type": "code",
   "execution_count": 24,
   "outputs": [],
   "source": [
    "state = env.step(env.action_space.sample())[0]"
   ],
   "metadata": {
    "collapsed": false
   }
  },
  {
   "cell_type": "code",
   "execution_count": 26,
   "outputs": [],
   "source": [
    "buffer = np.zeros([100, 18])\n",
    "buffer[0:8] = state"
   ],
   "metadata": {
    "collapsed": false
   }
  }
 ],
 "metadata": {
  "kernelspec": {
   "display_name": "Python 3",
   "language": "python",
   "name": "python3"
  },
  "language_info": {
   "codemirror_mode": {
    "name": "ipython",
    "version": 2
   },
   "file_extension": ".py",
   "mimetype": "text/x-python",
   "name": "python",
   "nbconvert_exporter": "python",
   "pygments_lexer": "ipython2",
   "version": "2.7.6"
  }
 },
 "nbformat": 4,
 "nbformat_minor": 0
}
