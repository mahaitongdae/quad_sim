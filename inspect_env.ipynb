{
 "cells": [
  {
   "cell_type": "code",
   "execution_count": 6,
   "metadata": {
    "collapsed": true
   },
   "outputs": [],
   "source": [
    "from environments.quadrotor import QuadrotorEnv\n",
    "import gym\n",
    "import numpy as np"
   ]
  },
  {
   "cell_type": "code",
   "execution_count": 3,
   "metadata": {
    "collapsed": false
   },
   "outputs": [
    {
     "name": "stdout",
     "output_type": "stream",
     "text": [
      "QuadEnv: Dyn update time:  0.001634836196899414\n"
     ]
    },
    {
     "name": "stderr",
     "output_type": "stream",
     "text": [
      "/home/mht/anaconda3/envs/gpyt/lib/python3.8/site-packages/gym/spaces/box.py:128: UserWarning: \u001B[33mWARN: Box bound precision lowered by casting to float32\u001B[0m\n",
      "  logger.warn(f\"Box bound precision lowered by casting to {self.dtype}\")\n",
      "/home/mht/anaconda3/envs/gpyt/lib/python3.8/site-packages/gym/vector/vector_env.py:56: DeprecationWarning: \u001B[33mWARN: Initializing vector env in old step API which returns one bool array instead of two. It is recommended to set `new_step_api=True` to use new step API. This will be the default behaviour in future.\u001B[0m\n",
      "  deprecation(\n"
     ]
    },
    {
     "name": "stdout",
     "output_type": "stream",
     "text": [
      "QuadEnv: Dyn update time:  0.0012514591217041016\n",
      "QuadEnv: Dyn update time:  0.0012078285217285156\n",
      "QuadEnv: Dyn update time:  0.0012331008911132812\n",
      "QuadEnv: Dyn update time:  0.0012786388397216797\n",
      "QuadEnv: Dyn update time:  0.0014278888702392578\n",
      "QuadEnv: Dyn update time:  0.0013096332550048828\n",
      "QuadEnv: Dyn update time:  0.0012919902801513672\n",
      "QuadEnv: Dyn update time:  0.001287221908569336\n"
     ]
    }
   ],
   "source": [
    "env = gym.vector.make('Quadrotor-v1', num_envs=8)"
   ]
  },
  {
   "cell_type": "code",
   "execution_count": 24,
   "metadata": {
    "collapsed": false
   },
   "outputs": [],
   "source": [
    "state = env.step(env.action_space.sample())[0]"
   ]
  },
  {
   "cell_type": "code",
   "execution_count": 26,
   "metadata": {
    "collapsed": false
   },
   "outputs": [],
   "source": [
    "buffer = np.zeros([100, 18])\n",
    "buffer[0:8] = state"
   ]
  },
  {
   "cell_type": "code",
   "execution_count": 2,
   "metadata": {},
   "outputs": [],
   "source": [
    "import torch\n",
    "from train.agent.sac.actor import DiagGaussianActor\n",
    "\n",
    "\n",
    "def get_firmware_file(log_path):\n",
    "\n",
    "    actor = DiagGaussianActor(obs_dim=18,\n",
    "                              action_dim=4,\n",
    "                              hidden_dim=64,\n",
    "                              hidden_depth=2,\n",
    "                              log_std_bounds=[-5., 2.]) # hard coded for drone controllers.\n",
    "    # if use_nystrom == False:\n",
    "    #     critic = RFVCritic(**kwargs)\n",
    "    # else:\n",
    "    #     critic = nystromVCritic(**kwargs)\n",
    "\n",
    "    actor.load_state_dict(torch.load(log_path))\n",
    "    return actor"
   ]
  },
  {
   "cell_type": "code",
   "execution_count": 3,
   "metadata": {},
   "outputs": [],
   "source": [
    "actor = get_firmware_file('train/log/Quadrotor-v1/sac/reproduce_speder/1/best_actor.pth')"
   ]
  },
  {
   "cell_type": "code",
   "execution_count": 45,
   "outputs": [
    {
     "data": {
      "text/plain": "<generator object Module.parameters at 0x7fd29bda3ac0>"
     },
     "execution_count": 45,
     "metadata": {},
     "output_type": "execute_result"
    }
   ],
   "source": [
    "actor.parameters()"
   ],
   "metadata": {
    "collapsed": false
   }
  },
  {
   "cell_type": "code",
   "execution_count": 5,
   "metadata": {},
   "outputs": [],
   "source": [
    "w0 = actor.trunk[0].weight.detach().numpy()\n",
    "b0 = actor.trunk[0].bias.detach().numpy()\n",
    "w1 = actor.trunk[2].weight.detach().numpy()\n",
    "b1 = actor.trunk[2].bias.detach().numpy()\n",
    "w2 = actor.trunk[4].weight.detach().numpy()\n",
    "b2 = actor.trunk[4].bias.detach().numpy()"
   ]
  },
  {
   "cell_type": "code",
   "execution_count": 8,
   "outputs": [
    {
     "name": "stdout",
     "output_type": "stream",
     "text": [
      "QuadEnv: Dyn update time:  0.00185394287109375\n"
     ]
    },
    {
     "name": "stderr",
     "output_type": "stream",
     "text": [
      "/home/mht/anaconda3/envs/gpyt/lib/python3.8/site-packages/gym/spaces/box.py:128: UserWarning: \u001B[33mWARN: Box bound precision lowered by casting to float32\u001B[0m\n",
      "  logger.warn(f\"Box bound precision lowered by casting to {self.dtype}\")\n"
     ]
    }
   ],
   "source": [
    "env = QuadrotorEnv()\n",
    "state = env.reset()"
   ],
   "metadata": {
    "collapsed": false
   }
  },
  {
   "cell_type": "code",
   "execution_count": 37,
   "outputs": [
    {
     "data": {
      "text/plain": "tensor([-0.8238,  0.0026, -0.0215, -0.5814], grad_fn=<TanhBackward0>)"
     },
     "execution_count": 37,
     "metadata": {},
     "output_type": "execute_result"
    }
   ],
   "source": [
    "dist = actor(torch.from_numpy(state).float())\n",
    "dist.mean"
   ],
   "metadata": {
    "collapsed": false
   }
  },
  {
   "cell_type": "code",
   "execution_count": 19,
   "outputs": [],
   "source": [
    "def elu(x):\n",
    "    elu_x = []\n",
    "    for xi in x:\n",
    "        if xi >= 0:\n",
    "            elu_x.append(xi)\n",
    "        else:\n",
    "            elu_x.append(np.exp(xi) - 1)\n",
    "    return np.array(elu_x)"
   ],
   "metadata": {
    "collapsed": false
   }
  },
  {
   "cell_type": "code",
   "execution_count": 40,
   "outputs": [
    {
     "data": {
      "text/plain": "array([-0.82384596,  0.0025772 , -0.02153534, -0.58137425,  0.22800406,\n        0.23380311,  0.25142225,  0.25680471])"
     },
     "execution_count": 40,
     "metadata": {},
     "output_type": "execute_result"
    }
   ],
   "source": [
    "x = np.matmul(w0, state.astype(float)) + b0\n",
    "x = elu(x)\n",
    "x = np.matmul(w1, x) + b1\n",
    "x = elu(x)\n",
    "x = np.matmul(w2, x) + b2\n",
    "np.tanh(x)"
   ],
   "metadata": {
    "collapsed": false
   }
  },
  {
   "cell_type": "code",
   "execution_count": 36,
   "outputs": [
    {
     "data": {
      "text/plain": "array([-0.82384596,  0.0025772 , -0.02153534, -0.58137425,  0.22800406,\n        0.23380311,  0.25142225,  0.25680471])"
     },
     "execution_count": 36,
     "metadata": {},
     "output_type": "execute_result"
    }
   ],
   "source": [],
   "metadata": {
    "collapsed": false
   }
  },
  {
   "cell_type": "code",
   "execution_count": 27,
   "outputs": [],
   "source": [
    "m = actor.trunk[1]"
   ],
   "metadata": {
    "collapsed": false
   }
  },
  {
   "cell_type": "code",
   "execution_count": 32,
   "outputs": [
    {
     "data": {
      "text/plain": "tensor(-0.6321)"
     },
     "execution_count": 32,
     "metadata": {},
     "output_type": "execute_result"
    }
   ],
   "source": [
    "m(torch.tensor(-1.))"
   ],
   "metadata": {
    "collapsed": false
   }
  }
 ],
 "metadata": {
  "kernelspec": {
   "display_name": "Python 3",
   "language": "python",
   "name": "python3"
  },
  "language_info": {
   "codemirror_mode": {
    "name": "ipython",
    "version": 3
   },
   "file_extension": ".py",
   "mimetype": "text/x-python",
   "name": "python",
   "nbconvert_exporter": "python",
   "pygments_lexer": "ipython3",
   "version": "3.8.16"
  }
 },
 "nbformat": 4,
 "nbformat_minor": 0
}
