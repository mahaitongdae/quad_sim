{
 "cells": [
  {
   "cell_type": "code",
   "execution_count": null,
   "id": "initial_id",
   "metadata": {
    "collapsed": true
   },
   "outputs": [],
   "source": [
    "import pickle as pkl\n",
    "import numpy as np\n",
    "# from envs.env_helper import *\n",
    "import argparse\n",
    "import os\n",
    "import torch\n",
    "from train.agent.feature_sac import feature_sac_agent\n",
    "from train.agent.sac import sac_agent\n",
    "from train.agent.sac.actor import DiagGaussianActor\n",
    "from train.utils.util import eval_policy, to_np\n",
    "import yaml\n",
    "import gym\n",
    "from stable_baselines3 import PPO\n",
    "root_dir = os.path.dirname(os.path.abspath(__file__))\n",
    "\n",
    "def eval(log_path, ):\n",
    "    # with open(os.path.join(log_path, 'train_params.pkl'), 'rb') as f:        \n",
    "    #     kwargs = pkl.load(f)\n",
    "    # env_name = kwargs['env']\n",
    "    \n",
    "    # if 'env_params' in kwargs.keys():\n",
    "    #     pass\n",
    "    # else:\n",
    "    env_params_name = 'sac_baseline_randomize_t2w15_35.yml'\n",
    "\n",
    "    # if \"Quadrotor\" in args.env:\n",
    "    env = 'Quadrotor-v2'\n",
    "    params_path = root_dir + '/environments/config/' + env_params_name\n",
    "    yaml_stream = open(params_path, 'r')\n",
    "    params = yaml.load(yaml_stream, Loader=yaml.Loader)\n",
    "    env = gym.make(env, **params['variant'][\"env_param\"])\n",
    "    from gym.wrappers.transform_reward import TransformReward\n",
    "    env = TransformReward(env, lambda r: 10. * r)\n",
    "\n",
    "    \n",
    "    policy = loaded_model.policy\n",
    "    done = False\n",
    "    state = env.reset()\n",
    "    env.render()\n",
    "\n",
    "    # def select_action(actor, state):\n",
    "    #     state = torch.FloatTensor(state)\n",
    "    #     state = state.unsqueeze(0)\n",
    "    #     # dist = actor(state)\n",
    "    #     action = policy.predict(state, deterministic=True)[0]\n",
    "    #     print(action)\n",
    "    #     assert action.ndim == 2 and action.shape[0] == 1\n",
    "    #     return to_np(action[0])\n",
    "\n",
    "    while not done:\n",
    "        state ,_, done, _ = env.step(action=policy.predict(state, deterministic=True)[0])\n",
    "        env.render()\n",
    "\n",
    "\n",
    "\n",
    "if __name__ == '__main__':\n",
    "    eval(\"log/Quadrotor-v2/sac/sac_lipsnet/1\")"
   ]
  },
  {
   "cell_type": "code",
   "outputs": [
    {
     "name": "stderr",
     "output_type": "stream",
     "text": [
      "/home/mht/anaconda3/envs/gpyt/lib/python3.8/site-packages/torch/utils/tensorboard/__init__.py:4: DeprecationWarning: distutils Version classes are deprecated. Use packaging.version instead.\n",
      "  if not hasattr(tensorboard, \"__version__\") or LooseVersion(\n"
     ]
    }
   ],
   "source": [
    "from stable_baselines3 import PPO\n",
    "loaded_model = PPO.load('/home/mht/sim_to_real/training/log/Quadrotor-v2/sac/sb3_sac/1/sb3_ppo.zip')"
   ],
   "metadata": {
    "collapsed": false,
    "ExecuteTime": {
     "end_time": "2024-02-29T04:36:24.548942Z",
     "start_time": "2024-02-29T04:36:22.748960Z"
    }
   },
   "id": "e87f4a0357133b40",
   "execution_count": 1
  },
  {
   "cell_type": "code",
   "outputs": [
    {
     "data": {
      "text/plain": "ActorCriticPolicy(\n  (features_extractor): FlattenExtractor(\n    (flatten): Flatten(start_dim=1, end_dim=-1)\n  )\n  (pi_features_extractor): FlattenExtractor(\n    (flatten): Flatten(start_dim=1, end_dim=-1)\n  )\n  (vf_features_extractor): FlattenExtractor(\n    (flatten): Flatten(start_dim=1, end_dim=-1)\n  )\n  (mlp_extractor): MlpExtractor(\n    (policy_net): Sequential(\n      (0): Linear(in_features=18, out_features=64, bias=True)\n      (1): Tanh()\n      (2): Linear(in_features=64, out_features=64, bias=True)\n      (3): Tanh()\n    )\n    (value_net): Sequential(\n      (0): Linear(in_features=18, out_features=64, bias=True)\n      (1): Tanh()\n      (2): Linear(in_features=64, out_features=64, bias=True)\n      (3): Tanh()\n    )\n  )\n  (action_net): Linear(in_features=64, out_features=4, bias=True)\n  (value_net): Linear(in_features=64, out_features=1, bias=True)\n)"
     },
     "execution_count": 2,
     "metadata": {},
     "output_type": "execute_result"
    }
   ],
   "source": [
    "loaded_model.policy"
   ],
   "metadata": {
    "collapsed": false,
    "ExecuteTime": {
     "end_time": "2024-02-29T04:36:31.253469Z",
     "start_time": "2024-02-29T04:36:31.250018Z"
    }
   },
   "id": "9188ce607b70b3e7",
   "execution_count": 2
  }
 ],
 "metadata": {
  "kernelspec": {
   "display_name": "Python 3",
   "language": "python",
   "name": "python3"
  },
  "language_info": {
   "codemirror_mode": {
    "name": "ipython",
    "version": 2
   },
   "file_extension": ".py",
   "mimetype": "text/x-python",
   "name": "python",
   "nbconvert_exporter": "python",
   "pygments_lexer": "ipython2",
   "version": "2.7.6"
  }
 },
 "nbformat": 4,
 "nbformat_minor": 5
}
